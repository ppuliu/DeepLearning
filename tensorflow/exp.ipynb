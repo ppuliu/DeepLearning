{
 "cells": [
  {
   "cell_type": "code",
   "execution_count": 1,
   "metadata": {
    "collapsed": true
   },
   "outputs": [
    {
     "name": "stdout",
     "output_type": "stream",
     "text": [
      "Reading data\n(167999, 85)"
     ]
    },
    {
     "name": "stdout",
     "output_type": "stream",
     "text": [
      "\nBuilding model\nFalse"
     ]
    },
    {
     "name": "stdout",
     "output_type": "stream",
     "text": [
      "\nmodel/shared_variables/Cell0\nStarting session"
     ]
    },
    {
     "name": "stdout",
     "output_type": "stream",
     "text": [
      "\nmodel/I1923_0001.csv/input_w:0"
     ]
    },
    {
     "name": "stdout",
     "output_type": "stream",
     "text": [
      "\nmodel/shared_variables/Cell0/Linear/Matrix:0\nmodel/shared_variables/Cell0/Linear/Bias:0\nmodel/I1923_0001.csv/output_w:0\nmodel/I1923_0001.csv/model/I1923_0001.csv/input_w/RMSProp:0\nmodel/I1923_0001.csv/model/I1923_0001.csv/input_w/RMSProp_1:0"
     ]
    },
    {
     "name": "stdout",
     "output_type": "stream",
     "text": [
      "\nmodel/I1923_0001.csv/model/I1923_0001.csv/output_w/RMSProp:0\nmodel/I1923_0001.csv/model/I1923_0001.csv/output_w/RMSProp_1:0\n"
     ]
    }
   ],
   "source": [
    "import train_multi_rnn\n",
    "%matplotlib inline\n",
    "import matplotlib.pylab as plt\n",
    "\n",
    "train_multi_rnn.FLAGS.log_dir='/Users/honglei/Downloads/test/logdir'\n",
    "m=train_multi_rnn.TrainMultiRNN('/Users/honglei/Downloads/test/small', fix_shared=True)\n",
    "m.restore('/Users/honglei/Downloads/test/logdir/1_layer_150_neuron_r_1_889.ckt')\n",
    "#m.partially_train('/home/honglei/projects/neural_network/log_dir/1_layer_150_neuron_r_2_875.ckt')"
   ]
  },
  {
   "cell_type": "code",
   "execution_count": null,
   "metadata": {},
   "outputs": [],
   "source": [
    "val=m.get_value_of_variable('model/I1923_0001.csv/input_w:0)\n",
    "print val"
   ]
  },
  {
   "cell_type": "code",
   "execution_count": null,
   "outputs": [],
   "source": [
    ""
   ]
  }
 ],
 "metadata": {
  "kernelspec": {
   "display_name": "Python 2",
   "language": "python",
   "name": "python2"
  },
  "language_info": {
   "codemirror_mode": {
    "name": "ipython",
    "version": 2.0
   },
   "file_extension": ".py",
   "mimetype": "text/x-python",
   "name": "python",
   "nbconvert_exporter": "python",
   "pygments_lexer": "ipython2",
   "version": "2.7.6"
  }
 },
 "nbformat": 4,
 "nbformat_minor": 0
}