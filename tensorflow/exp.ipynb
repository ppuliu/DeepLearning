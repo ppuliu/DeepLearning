{
 "cells": [
  {
   "cell_type": "code",
   "execution_count": 1,
   "metadata": {
    "collapsed": true
   },
   "outputs": [],
   "source": [
    "%matplotlib inline\n",
    "import matplotlib.pylab as plt\n",
    "import numpy as np\n",
    "import train_multi_rnn"
   ]
  },
  {
   "cell_type": "code",
   "execution_count": 2,
   "metadata": {
    "collapsed": false
   },
   "outputs": [
    {
     "name": "stdout",
     "output_type": "stream",
     "text": [
      "[60  9 19 70 55 61 71 13 75 30 44 43 84 83 66 80 40 26  1 42 63 41 50 78 74\n",
      " 18 46 69  3 58  5 51 31 59 67  4 15 29 54 68 36 17 37 14 62  8 23 38 49 65\n",
      " 22 21 76  6 48 39  7 47 56 10 45 79 64 52 35 25 28  0 81 72 20 34 53 82 33\n",
      " 77 32 24 16 11 12 27 73  2 57]\n"
     ]
    }
   ],
   "source": [
    "#orders=np.arange(85)\n",
    "#np.random.shuffle(orders)\n",
    "#print ','.join(map(str,list(orders)))\n",
    "orders=np.array([60,9,19,70,55,61,71,13,75,30,44,43,84,83,66,80,40,26,1,42,63,41,50,78,74,18,46,69,3,58,5,51,31,59,67,4,15,29,54,68,36,17,37,14,62,8,23,38,49,65,22,21,76,6,48,39,7,47,56,10,45,79,64,52,35,25,28,0,81,72,20,34,53,82,33,77,32,24,16,11,12,27,73,2,57])\n",
    "print orders"
   ]
  },
  {
   "cell_type": "code",
   "execution_count": 31,
   "metadata": {
    "collapsed": false
   },
   "outputs": [
    {
     "name": "stdout",
     "output_type": "stream",
     "text": [
      "0.0\n",
      "0.0\n"
     ]
    }
   ],
   "source": [
    "data=np.genfromtxt('/home/honglei/projects/neural_network/data/small/I1923_0001.csv', delimiter=',')\n",
    "#print data[0:5,orders]\n",
    "#data[:,[6,12]]=data[:,[12,6]]\n",
    "np.savetxt('/home/honglei/projects/neural_network/data/shuffle/I1923_0001.csv',data[:,orders],fmt='%d',delimiter=',')\n",
    "\n",
    "data1=np.genfromtxt('/home/honglei/projects/neural_network/data/small/I1923_0001.csv', delimiter=',')\n",
    "data2=np.genfromtxt('/home/honglei/projects/neural_network/data/shuffle/I1923_0001.csv', delimiter=',')\n",
    "print np.linalg.norm(data1[:,60]-data2[:,0])\n",
    "print np.linalg.norm(data1[:,9]-data2[:,1])\n",
    "\n",
    "\n",
    "#np.savetxt('/home/honglei/projects/neural_network/data/shuffle/6_alone.csv',data[:,6],fmt='%d',delimiter=',')"
   ]
  },
  {
   "cell_type": "code",
   "execution_count": null,
   "metadata": {
    "collapsed": false
   },
   "outputs": [
    {
     "name": "stdout",
     "output_type": "stream",
     "text": [
      "Reading data\n",
      "(167999, 85)\n",
      "Building model\n",
      "False\n",
      "model/shared_variables/Cell0\n",
      "Starting session\n",
      "model/I1923_0001.csv/input_w:0\n",
      "model/shared_variables/Cell0/Linear/Matrix:0\n",
      "model/shared_variables/Cell0/Linear/Bias:0\n",
      "model/I1923_0001.csv/output_w:0\n",
      "model/I1923_0001.csv/model/I1923_0001.csv/input_w/RMSProp:0\n",
      "model/I1923_0001.csv/model/I1923_0001.csv/input_w/RMSProp_1:0\n",
      "model/I1923_0001.csv/model/shared_variables/Cell0/Linear/Matrix/RMSProp:0\n",
      "model/I1923_0001.csv/model/shared_variables/Cell0/Linear/Matrix/RMSProp_1:0\n",
      "model/I1923_0001.csv/model/shared_variables/Cell0/Linear/Bias/RMSProp:0\n",
      "model/I1923_0001.csv/model/shared_variables/Cell0/Linear/Bias/RMSProp_1:0\n",
      "model/I1923_0001.csv/model/I1923_0001.csv/output_w/RMSProp:0\n",
      "model/I1923_0001.csv/model/I1923_0001.csv/output_w/RMSProp_1:0\n",
      "167999\n",
      "100\n",
      "1679\n",
      "0.000 loss: 12783.677 speed: 2 batches/sec\n",
      "0.099 loss: 5183.130 speed: 4 batches/sec\n",
      "0.199 loss: 3242.612 speed: 3 batches/sec\n",
      "0.298 loss: 2589.533 speed: 3 batches/sec\n"
     ]
    }
   ],
   "source": [
    "train_multi_rnn.FLAGS.log_dir='/home/honglei/projects/neural_network/log_dir'\n",
    "m=train_multi_rnn.TrainMultiRNN('/home/honglei/projects/neural_network/data/small', fix_shared=False)\n",
    "m.train()"
   ]
  },
  {
   "cell_type": "code",
   "execution_count": 1,
   "metadata": {
    "collapsed": false
   },
   "outputs": [
    {
     "name": "stdout",
     "output_type": "stream",
     "text": [
      "Reading data\n",
      "(167999, 85)\n",
      "Building model\n",
      "False\n",
      "model/shared_variables/Cell0\n",
      "Starting session\n",
      "model/I1923_0001.csv/input_w:0\n",
      "model/shared_variables/Cell0/Linear/Matrix:0\n",
      "model/shared_variables/Cell0/Linear/Bias:0\n",
      "model/I1923_0001.csv/output_w:0\n",
      "model/I1923_0001.csv/model/I1923_0001.csv/input_w/RMSProp:0\n",
      "model/I1923_0001.csv/model/I1923_0001.csv/input_w/RMSProp_1:0\n",
      "model/I1923_0001.csv/model/I1923_0001.csv/output_w/RMSProp:0\n",
      "model/I1923_0001.csv/model/I1923_0001.csv/output_w/RMSProp_1:0\n"
     ]
    }
   ],
   "source": [
    "train_multi_rnn.FLAGS.log_dir='/home/honglei/projects/neural_network/log_dir'\n",
    "m=train_multi_rnn.TrainMultiRNN('/home/honglei/projects/neural_network/data/shuffle', fix_shared=True)"
   ]
  },
  {
   "cell_type": "code",
   "execution_count": 2,
   "metadata": {
    "collapsed": false
   },
   "outputs": [
    {
     "name": "stdout",
     "output_type": "stream",
     "text": [
      "167999\n",
      "100\n",
      "1679\n",
      "0.000 loss: 0.800 speed: 3 batches/sec\n",
      "0.099 loss: 0.454 speed: 4 batches/sec\n",
      "0.199 loss: 0.238 speed: 4 batches/sec\n",
      "0.298 loss: 0.162 speed: 4 batches/sec\n",
      "0.398 loss: 0.124 speed: 4 batches/sec\n",
      "0.497 loss: 0.102 speed: 4 batches/sec\n",
      "0.597 loss: 0.087 speed: 4 batches/sec\n",
      "0.696 loss: 0.077 speed: 4 batches/sec\n",
      "0.796 loss: 0.069 speed: 4 batches/sec\n",
      "0.895 loss: 0.062 speed: 4 batches/sec\n",
      "0.995 loss: 0.058 speed: 4 batches/sec\n",
      "Epoch: 1 Train Loss: 0.057\n",
      "Epoch: 1 Valid ROC-AUC: 0.860\n",
      "167999\n",
      "100\n",
      "1679\n",
      "0.000 loss: 0.024 speed: 3 batches/sec\n",
      "0.099 loss: 0.015 speed: 3 batches/sec\n",
      "0.199 loss: 0.015 speed: 4 batches/sec\n",
      "0.298 loss: 0.013 speed: 4 batches/sec\n",
      "0.398 loss: 0.011 speed: 4 batches/sec\n",
      "0.497 loss: 0.011 speed: 4 batches/sec\n",
      "0.597 loss: 0.011 speed: 4 batches/sec\n",
      "0.696 loss: 0.011 speed: 4 batches/sec\n",
      "0.796 loss: 0.011 speed: 4 batches/sec\n",
      "0.895 loss: 0.011 speed: 4 batches/sec\n",
      "0.995 loss: 0.011 speed: 4 batches/sec\n",
      "Epoch: 2 Train Loss: 0.011\n",
      "Epoch: 2 Valid ROC-AUC: 0.884\n",
      "167999\n",
      "100\n",
      "1679\n",
      "0.000 loss: 0.024 speed: 3 batches/sec\n",
      "WARNING: User interrupted program.\n",
      "Do you want to save the latest data? [y/n]y\n",
      "Save results to: /home/honglei/projects/neural_network/log_dir/6_12.ckt\n",
      "Saving latest results.\n"
     ]
    }
   ],
   "source": [
    "m.partially_train('/home/honglei/projects/neural_network/log_dir/1_layer_150_neuron_r_1_889.ckt')"
   ]
  },
  {
   "cell_type": "code",
   "execution_count": 2,
   "metadata": {
    "collapsed": false
   },
   "outputs": [],
   "source": [
    "m.restore('/home/honglei/projects/neural_network/log_dir/1_layer_150_neuron_r_1_889.ckt')\n",
    "origin_inputw=m.get_value_of_variable('model/I1923_0001.csv/input_w:0')\n",
    "m.restore('/home/honglei/projects/neural_network/log_dir/6_12.ckt')\n",
    "shuffle_inputw=m.get_value_of_variable('model/I1923_0001.csv/input_w:0')"
   ]
  },
  {
   "cell_type": "code",
   "execution_count": 5,
   "metadata": {
    "collapsed": false
   },
   "outputs": [
    {
     "name": "stdout",
     "output_type": "stream",
     "text": [
      "295.346\n",
      "292.383\n"
     ]
    }
   ],
   "source": [
    "# print np.linalg.norm(origin_inputw[6,:]-shuffle_inputw[6,:])\n",
    "# print np.linalg.norm(origin_inputw[6,:]-shuffle_inputw[12,:])\n",
    "# print np.linalg.norm(origin_inputw[12,:]-shuffle_inputw[12,:])\n",
    "# print np.linalg.norm(origin_inputw[12,:]-shuffle_inputw[6,:])\n",
    "print np.linalg.norm(origin_inputw-shuffle_inputw)\n",
    "print np.linalg.norm(origin_inputw[orders,:]-shuffle_inputw)"
   ]
  },
  {
   "cell_type": "code",
   "execution_count": 10,
   "metadata": {
    "collapsed": false
   },
   "outputs": [
    {
     "data": {
      "text/plain": [
       "<matplotlib.image.AxesImage at 0x7f22a045b090>"
      ]
     },
     "execution_count": 10,
     "metadata": {},
     "output_type": "execute_result"
    },
    {
     "ename": "RuntimeError",
     "evalue": "Could not create write struct",
     "traceback": [
      "\u001b[1;31m---------------------------------------------------------------------------\u001b[0m",
      "\u001b[1;31mRuntimeError\u001b[0m                              Traceback (most recent call last)",
      "\u001b[1;32m/home/honglei/anaconda2/lib/python2.7/site-packages/IPython/core/formatters.pyc\u001b[0m in \u001b[0;36m__call__\u001b[1;34m(self, obj)\u001b[0m\n\u001b[0;32m    337\u001b[0m                 \u001b[1;32mpass\u001b[0m\u001b[1;33m\u001b[0m\u001b[0m\n\u001b[0;32m    338\u001b[0m             \u001b[1;32melse\u001b[0m\u001b[1;33m:\u001b[0m\u001b[1;33m\u001b[0m\u001b[0m\n\u001b[1;32m--> 339\u001b[1;33m                 \u001b[1;32mreturn\u001b[0m \u001b[0mprinter\u001b[0m\u001b[1;33m(\u001b[0m\u001b[0mobj\u001b[0m\u001b[1;33m)\u001b[0m\u001b[1;33m\u001b[0m\u001b[0m\n\u001b[0m\u001b[0;32m    340\u001b[0m             \u001b[1;31m# Finally look for special method names\u001b[0m\u001b[1;33m\u001b[0m\u001b[1;33m\u001b[0m\u001b[0m\n\u001b[0;32m    341\u001b[0m             \u001b[0mmethod\u001b[0m \u001b[1;33m=\u001b[0m \u001b[0m_safe_get_formatter_method\u001b[0m\u001b[1;33m(\u001b[0m\u001b[0mobj\u001b[0m\u001b[1;33m,\u001b[0m \u001b[0mself\u001b[0m\u001b[1;33m.\u001b[0m\u001b[0mprint_method\u001b[0m\u001b[1;33m)\u001b[0m\u001b[1;33m\u001b[0m\u001b[0m\n",
      "\u001b[1;32m/home/honglei/anaconda2/lib/python2.7/site-packages/IPython/core/pylabtools.pyc\u001b[0m in \u001b[0;36m<lambda>\u001b[1;34m(fig)\u001b[0m\n\u001b[0;32m    224\u001b[0m \u001b[1;33m\u001b[0m\u001b[0m\n\u001b[0;32m    225\u001b[0m     \u001b[1;32mif\u001b[0m \u001b[1;34m'png'\u001b[0m \u001b[1;32min\u001b[0m \u001b[0mformats\u001b[0m\u001b[1;33m:\u001b[0m\u001b[1;33m\u001b[0m\u001b[0m\n\u001b[1;32m--> 226\u001b[1;33m         \u001b[0mpng_formatter\u001b[0m\u001b[1;33m.\u001b[0m\u001b[0mfor_type\u001b[0m\u001b[1;33m(\u001b[0m\u001b[0mFigure\u001b[0m\u001b[1;33m,\u001b[0m \u001b[1;32mlambda\u001b[0m \u001b[0mfig\u001b[0m\u001b[1;33m:\u001b[0m \u001b[0mprint_figure\u001b[0m\u001b[1;33m(\u001b[0m\u001b[0mfig\u001b[0m\u001b[1;33m,\u001b[0m \u001b[1;34m'png'\u001b[0m\u001b[1;33m,\u001b[0m \u001b[1;33m**\u001b[0m\u001b[0mkwargs\u001b[0m\u001b[1;33m)\u001b[0m\u001b[1;33m)\u001b[0m\u001b[1;33m\u001b[0m\u001b[0m\n\u001b[0m\u001b[0;32m    227\u001b[0m     \u001b[1;32mif\u001b[0m \u001b[1;34m'retina'\u001b[0m \u001b[1;32min\u001b[0m \u001b[0mformats\u001b[0m \u001b[1;32mor\u001b[0m \u001b[1;34m'png2x'\u001b[0m \u001b[1;32min\u001b[0m \u001b[0mformats\u001b[0m\u001b[1;33m:\u001b[0m\u001b[1;33m\u001b[0m\u001b[0m\n\u001b[0;32m    228\u001b[0m         \u001b[0mpng_formatter\u001b[0m\u001b[1;33m.\u001b[0m\u001b[0mfor_type\u001b[0m\u001b[1;33m(\u001b[0m\u001b[0mFigure\u001b[0m\u001b[1;33m,\u001b[0m \u001b[1;32mlambda\u001b[0m \u001b[0mfig\u001b[0m\u001b[1;33m:\u001b[0m \u001b[0mretina_figure\u001b[0m\u001b[1;33m(\u001b[0m\u001b[0mfig\u001b[0m\u001b[1;33m,\u001b[0m \u001b[1;33m**\u001b[0m\u001b[0mkwargs\u001b[0m\u001b[1;33m)\u001b[0m\u001b[1;33m)\u001b[0m\u001b[1;33m\u001b[0m\u001b[0m\n",
      "\u001b[1;32m/home/honglei/anaconda2/lib/python2.7/site-packages/IPython/core/pylabtools.pyc\u001b[0m in \u001b[0;36mprint_figure\u001b[1;34m(fig, fmt, bbox_inches, **kwargs)\u001b[0m\n\u001b[0;32m    115\u001b[0m \u001b[1;33m\u001b[0m\u001b[0m\n\u001b[0;32m    116\u001b[0m     \u001b[0mbytes_io\u001b[0m \u001b[1;33m=\u001b[0m \u001b[0mBytesIO\u001b[0m\u001b[1;33m(\u001b[0m\u001b[1;33m)\u001b[0m\u001b[1;33m\u001b[0m\u001b[0m\n\u001b[1;32m--> 117\u001b[1;33m     \u001b[0mfig\u001b[0m\u001b[1;33m.\u001b[0m\u001b[0mcanvas\u001b[0m\u001b[1;33m.\u001b[0m\u001b[0mprint_figure\u001b[0m\u001b[1;33m(\u001b[0m\u001b[0mbytes_io\u001b[0m\u001b[1;33m,\u001b[0m \u001b[1;33m**\u001b[0m\u001b[0mkw\u001b[0m\u001b[1;33m)\u001b[0m\u001b[1;33m\u001b[0m\u001b[0m\n\u001b[0m\u001b[0;32m    118\u001b[0m     \u001b[0mdata\u001b[0m \u001b[1;33m=\u001b[0m \u001b[0mbytes_io\u001b[0m\u001b[1;33m.\u001b[0m\u001b[0mgetvalue\u001b[0m\u001b[1;33m(\u001b[0m\u001b[1;33m)\u001b[0m\u001b[1;33m\u001b[0m\u001b[0m\n\u001b[0;32m    119\u001b[0m     \u001b[1;32mif\u001b[0m \u001b[0mfmt\u001b[0m \u001b[1;33m==\u001b[0m \u001b[1;34m'svg'\u001b[0m\u001b[1;33m:\u001b[0m\u001b[1;33m\u001b[0m\u001b[0m\n",
      "\u001b[1;32m/home/honglei/anaconda2/lib/python2.7/site-packages/matplotlib/backend_bases.pyc\u001b[0m in \u001b[0;36mprint_figure\u001b[1;34m(self, filename, dpi, facecolor, edgecolor, orientation, format, **kwargs)\u001b[0m\n\u001b[0;32m   2178\u001b[0m                     \u001b[0morientation\u001b[0m\u001b[1;33m=\u001b[0m\u001b[0morientation\u001b[0m\u001b[1;33m,\u001b[0m\u001b[1;33m\u001b[0m\u001b[0m\n\u001b[0;32m   2179\u001b[0m                     \u001b[0mdryrun\u001b[0m\u001b[1;33m=\u001b[0m\u001b[0mTrue\u001b[0m\u001b[1;33m,\u001b[0m\u001b[1;33m\u001b[0m\u001b[0m\n\u001b[1;32m-> 2180\u001b[1;33m                     **kwargs)\n\u001b[0m\u001b[0;32m   2181\u001b[0m                 \u001b[0mrenderer\u001b[0m \u001b[1;33m=\u001b[0m \u001b[0mself\u001b[0m\u001b[1;33m.\u001b[0m\u001b[0mfigure\u001b[0m\u001b[1;33m.\u001b[0m\u001b[0m_cachedRenderer\u001b[0m\u001b[1;33m\u001b[0m\u001b[0m\n\u001b[0;32m   2182\u001b[0m                 \u001b[0mbbox_inches\u001b[0m \u001b[1;33m=\u001b[0m \u001b[0mself\u001b[0m\u001b[1;33m.\u001b[0m\u001b[0mfigure\u001b[0m\u001b[1;33m.\u001b[0m\u001b[0mget_tightbbox\u001b[0m\u001b[1;33m(\u001b[0m\u001b[0mrenderer\u001b[0m\u001b[1;33m)\u001b[0m\u001b[1;33m\u001b[0m\u001b[0m\n",
      "\u001b[1;32m/home/honglei/anaconda2/lib/python2.7/site-packages/matplotlib/backends/backend_agg.pyc\u001b[0m in \u001b[0;36mprint_png\u001b[1;34m(self, filename_or_obj, *args, **kwargs)\u001b[0m\n\u001b[0;32m    535\u001b[0m             \u001b[0mclose\u001b[0m \u001b[1;33m=\u001b[0m \u001b[0mFalse\u001b[0m\u001b[1;33m\u001b[0m\u001b[0m\n\u001b[0;32m    536\u001b[0m         \u001b[1;32mtry\u001b[0m\u001b[1;33m:\u001b[0m\u001b[1;33m\u001b[0m\u001b[0m\n\u001b[1;32m--> 537\u001b[1;33m             \u001b[0m_png\u001b[0m\u001b[1;33m.\u001b[0m\u001b[0mwrite_png\u001b[0m\u001b[1;33m(\u001b[0m\u001b[0mrenderer\u001b[0m\u001b[1;33m.\u001b[0m\u001b[0m_renderer\u001b[0m\u001b[1;33m,\u001b[0m \u001b[0mfilename_or_obj\u001b[0m\u001b[1;33m,\u001b[0m \u001b[0mself\u001b[0m\u001b[1;33m.\u001b[0m\u001b[0mfigure\u001b[0m\u001b[1;33m.\u001b[0m\u001b[0mdpi\u001b[0m\u001b[1;33m)\u001b[0m\u001b[1;33m\u001b[0m\u001b[0m\n\u001b[0m\u001b[0;32m    538\u001b[0m         \u001b[1;32mfinally\u001b[0m\u001b[1;33m:\u001b[0m\u001b[1;33m\u001b[0m\u001b[0m\n\u001b[0;32m    539\u001b[0m             \u001b[1;32mif\u001b[0m \u001b[0mclose\u001b[0m\u001b[1;33m:\u001b[0m\u001b[1;33m\u001b[0m\u001b[0m\n",
      "\u001b[1;31mRuntimeError\u001b[0m: Could not create write struct"
     ],
     "output_type": "error"
    },
    {
     "data": {
      "text/plain": [
       "<matplotlib.figure.Figure at 0x7f22a04e1410>"
      ]
     },
     "metadata": {},
     "output_type": "display_data"
    }
   ],
   "source": [
    "#plt.matshow(origin_inputw)\n",
    "plt.matshow(np.zeros([2,3]))"
   ]
  },
  {
   "cell_type": "code",
   "execution_count": 1,
   "metadata": {
    "collapsed": true
   },
   "outputs": [
    {
     "ename": "ImportError",
     "evalue": "No module named train_multi_rnn",
     "traceback": [
      "\u001b[1;31m---------------------------------------------------------------------------\u001b[0m",
      "\u001b[1;31mImportError\u001b[0m                               Traceback (most recent call last)",
      "\u001b[1;32m<ipython-input-1-7b0da690d294>\u001b[0m in \u001b[0;36m<module>\u001b[1;34m()\u001b[0m\n\u001b[0;32m      4\u001b[0m \u001b[1;31m#plt.matshow(origin_inputw)\u001b[0m\u001b[1;33m\u001b[0m\u001b[1;33m\u001b[0m\u001b[0m\n\u001b[0;32m      5\u001b[0m \u001b[0mplt\u001b[0m\u001b[1;33m.\u001b[0m\u001b[0mmatshow\u001b[0m\u001b[1;33m(\u001b[0m\u001b[0mnp\u001b[0m\u001b[1;33m.\u001b[0m\u001b[0mzeros\u001b[0m\u001b[1;33m(\u001b[0m\u001b[1;33m[\u001b[0m\u001b[1;36m2\u001b[0m\u001b[1;33m,\u001b[0m\u001b[1;36m3\u001b[0m\u001b[1;33m]\u001b[0m\u001b[1;33m)\u001b[0m\u001b[1;33m)\u001b[0m\u001b[1;33m\u001b[0m\u001b[0m\n\u001b[1;32m----> 6\u001b[1;33m \u001b[1;32mimport\u001b[0m \u001b[0mtrain_multi_rnn\u001b[0m\u001b[1;33m\u001b[0m\u001b[0m\n\u001b[0m",
      "\u001b[1;31mImportError\u001b[0m: No module named train_multi_rnn"
     ],
     "output_type": "error"
    },
    {
     "data": {
      "image/png": "[encoded data removed]",
      "text/plain": [
       "<matplotlib.figure.Figure at 0x7f50e90cbc90>"
      ]
     },
     "metadata": {},
     "output_type": "display_data"
    }
   ],
   "source": [
    "%matplotlib inline\n",
    "import matplotlib.pylab as plt\n",
    "import numpy as np\n",
    "#plt.matshow(origin_inputw)\n",
    "plt.matshow(np.zeros([2,3]))\n",
    "import train_multi_rnn"
   ]
  },
  {
   "cell_type": "code",
   "execution_count": 11,
   "metadata": {
    "collapsed": true
   },
   "outputs": [
    {
     "ename": "ImportError",
     "evalue": "No module named train_multi_rnn",
     "traceback": [
      "\u001b[1;31m---------------------------------------------------------------------------\u001b[0m",
      "\u001b[1;31mImportError\u001b[0m                               Traceback (most recent call last)",
      "\u001b[1;32m<ipython-input-11-96e0a96d06e6>\u001b[0m in \u001b[0;36m<module>\u001b[1;34m()\u001b[0m\n\u001b[1;32m----> 1\u001b[1;33m \u001b[1;32mfrom\u001b[0m \u001b[0mtrain_multi_rnn\u001b[0m \u001b[1;32mimport\u001b[0m \u001b[0mTrainMultiRNN\u001b[0m\u001b[1;33m\u001b[0m\u001b[0m\n\u001b[0m",
      "\u001b[1;31mImportError\u001b[0m: No module named train_multi_rnn"
     ],
     "output_type": "error"
    }
   ],
   "source": [
    "from train_multi_rnn import TrainMultiRNN"
   ]
  }
 ],
 "metadata": {
  "kernelspec": {
   "display_name": "Python 2",
   "language": "python",
   "name": "python2"
  },
  "language_info": {
   "codemirror_mode": {
    "name": "ipython",
    "version": 2.0
   },
   "file_extension": ".py",
   "mimetype": "text/x-python",
   "name": "python",
   "nbconvert_exporter": "python",
   "pygments_lexer": "ipython2",
   "version": "2.7.11"
  }
 },
 "nbformat": 4,
 "nbformat_minor": 0
}