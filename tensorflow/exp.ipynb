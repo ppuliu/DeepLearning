{
 "cells": [
  {
   "cell_type": "code",
   "execution_count": 1,
   "metadata": {
    "collapsed": false
   },
   "outputs": [],
   "source": [
    "%matplotlib inline\n",
    "import matplotlib.pylab as plt\n",
    "import numpy as np\n",
    "import train_multi_rnn"
   ]
  },
  {
   "cell_type": "code",
   "execution_count": 2,
   "metadata": {
    "collapsed": false
   },
   "outputs": [
    {
     "name": "stdout",
     "output_type": "stream",
     "text": [
      "[60  9 19 70 55 61 71 13 75 30 44 43 84 83 66 80 40 26  1 42 63 41 50 78 74\n",
      " 18 46 69  3 58  5 51 31 59 67  4 15 29 54 68 36 17 37 14 62  8 23 38 49 65\n",
      " 22 21 76  6 48 39  7 47 56 10 45 79 64 52 35 25 28  0 81 72 20 34 53 82 33\n",
      " 77 32 24 16 11 12 27 73  2 57]\n"
     ]
    }
   ],
   "source": [
    "#orders=np.arange(85)\n",
    "#np.random.shuffle(orders)\n",
    "#print ','.join(map(str,list(orders)))\n",
    "orders=np.array([60,9,19,70,55,61,71,13,75,30,44,43,84,83,66,80,40,26,1,42,63,41,50,78,74,18,46,69,3,58,5,51,31,59,67,4,15,29,54,68,36,17,37,14,62,8,23,38,49,65,22,21,76,6,48,39,7,47,56,10,45,79,64,52,35,25,28,0,81,72,20,34,53,82,33,77,32,24,16,11,12,27,73,2,57])\n",
    "print orders"
   ]
  },
  {
   "cell_type": "code",
   "execution_count": 2,
   "metadata": {
    "collapsed": false
   },
   "outputs": [],
   "source": [
    "# data=np.genfromtxt('/home/honglei/projects/neural_network/data/small/I1923_0001.csv', delimiter=',')\n",
    "# #print data[0:5,orders]\n",
    "# #data[:,[6,12]]=data[:,[12,6]]\n",
    "# np.savetxt('/home/honglei/projects/neural_network/data/shuffle/I1923_0001.csv',data[:,orders],fmt='%d',delimiter=',')\n",
    "\n",
    "# data1=np.genfromtxt('/home/honglei/projects/neural_network/data/small/I1923_0001.csv', delimiter=',')\n",
    "# data2=np.genfromtxt('/home/honglei/projects/neural_network/data/shuffle/I1923_0001.csv', delimiter=',')\n",
    "# print np.linalg.norm(data1[:,60]-data2[:,0])\n",
    "# print np.linalg.norm(data1[:,9]-data2[:,1])\n",
    "\n",
    "\n",
    "#np.savetxt('/home/honglei/projects/neural_network/data/shuffle/6_alone.csv',data[:,6],fmt='%d',delimiter=',')\n",
    "\n",
    "data=np.genfromtxt('/home/honglei/projects/neural_network/data/small/I1923_0001.csv', delimiter=',')\n",
    "np.savetxt('/home/honglei/projects/neural_network/data/small/truncated_23_0001.csv',data[0:60000,],fmt='%d',delimiter=',')"
   ]
  },
  {
   "cell_type": "code",
   "execution_count": null,
   "metadata": {
    "collapsed": false
   },
   "outputs": [
    {
     "name": "stdout",
     "output_type": "stream",
     "text": [
      "Reading data\n",
      "(48000, 85)\n",
      "Building model\n",
      "False\n",
      "model/shared_variables/Cell0\n",
      "Training variables: [u'model/truncated_23_0001.csv/input_w:0', u'model/shared_variables/Cell0/Linear/Matrix:0', u'model/shared_variables/Cell0/Linear/Bias:0', u'model/truncated_23_0001.csv/output_w:0']\n",
      "Fixed variables: [u'model/shared_variables/Cell0/Linear/Matrix:0', u'model/shared_variables/Cell0/Linear/Bias:0']\n",
      "Starting session\n",
      "model/truncated_23_0001.csv/input_w:0\n",
      "model/shared_variables/Cell0/Linear/Matrix:0\n",
      "model/shared_variables/Cell0/Linear/Bias:0\n",
      "model/truncated_23_0001.csv/output_w:0\n",
      "model/truncated_23_0001.csv/model/truncated_23_0001.csv/input_w/RMSProp:0\n",
      "model/truncated_23_0001.csv/model/truncated_23_0001.csv/input_w/RMSProp_1:0\n",
      "model/truncated_23_0001.csv/model/shared_variables/Cell0/Linear/Matrix/RMSProp:0\n",
      "model/truncated_23_0001.csv/model/shared_variables/Cell0/Linear/Matrix/RMSProp_1:0\n",
      "model/truncated_23_0001.csv/model/shared_variables/Cell0/Linear/Bias/RMSProp:0\n",
      "model/truncated_23_0001.csv/model/shared_variables/Cell0/Linear/Bias/RMSProp_1:0\n",
      "model/truncated_23_0001.csv/model/truncated_23_0001.csv/output_w/RMSProp:0\n",
      "model/truncated_23_0001.csv/model/truncated_23_0001.csv/output_w/RMSProp_1:0\n",
      "48000\n",
      "100\n",
      "480\n",
      "0.000 loss: 1.193 speed: 4 batches/sec\n",
      "0.100 loss: 1.287 speed: 9 batches/sec\n",
      "0.200 loss: 0.903 speed: 8 batches/sec\n",
      "0.300 loss: 0.614 speed: 9 batches/sec\n",
      "0.400 loss: 0.466 speed: 9 batches/sec\n",
      "0.500 loss: 0.377 speed: 9 batches/sec\n",
      "0.600 loss: 0.317 speed: 9 batches/sec\n",
      "0.700 loss: 0.274 speed: 9 batches/sec\n",
      "0.800 loss: 0.241 speed: 9 batches/sec\n",
      "0.900 loss: 0.215 speed: 9 batches/sec\n",
      "Epoch: 1 Train Loss: 0.195\n",
      "Epoch: 1 Valid ROC-AUC: 0.859, PR-AUC: 0.007\n",
      "48000\n",
      "100\n",
      "480\n",
      "0.000 loss: 0.023 speed: 10 batches/sec\n",
      "0.100 loss: 0.014 speed: 10 batches/sec\n",
      "0.200 loss: 0.015 speed: 10 batches/sec\n",
      "0.300 loss: 0.015 speed: 10 batches/sec\n",
      "0.400 loss: 0.014 speed: 10 batches/sec\n",
      "0.500 loss: 0.015 speed: 10 batches/sec\n",
      "0.600 loss: 0.014 speed: 10 batches/sec\n",
      "0.700 loss: 0.014 speed: 10 batches/sec\n",
      "0.800 loss: 0.013 speed: 10 batches/sec\n"
     ]
    }
   ],
   "source": [
    "train_multi_rnn.FLAGS.log_dir='/home/honglei/projects/neural_network/log_dir'\n",
    "m=train_multi_rnn.TrainMultiRNN('/home/honglei/projects/neural_network/data/small', fix_shared=False)\n",
    "m.train()"
   ]
  },
  {
   "cell_type": "code",
   "execution_count": 2,
   "metadata": {
    "collapsed": false
   },
   "outputs": [
    {
     "name": "stdout",
     "output_type": "stream",
     "text": [
      "Reading data\n",
      "(167999, 85)\n",
      "Building model\n",
      "False\n",
      "model/shared_variables/Cell0\n",
      "[u'model/I1923_0001.csv/input_w:0', u'model/I1923_0001.csv/input_b:0', u'model/I1923_0001.csv/output_w:0', u'model/I1923_0001.csv/output_b:0']\n",
      "Starting session\n",
      "model/I1923_0001.csv/input_w:0\n",
      "model/I1923_0001.csv/input_b:0\n",
      "model/shared_variables/Cell0/Linear/Matrix:0\n",
      "model/shared_variables/Cell0/Linear/Bias:0\n",
      "model/I1923_0001.csv/output_w:0\n",
      "model/I1923_0001.csv/output_b:0\n",
      "model/I1923_0001.csv/model/I1923_0001.csv/input_w/RMSProp:0\n",
      "model/I1923_0001.csv/model/I1923_0001.csv/input_w/RMSProp_1:0\n",
      "model/I1923_0001.csv/model/I1923_0001.csv/input_b/RMSProp:0\n",
      "model/I1923_0001.csv/model/I1923_0001.csv/input_b/RMSProp_1:0\n",
      "model/I1923_0001.csv/model/I1923_0001.csv/output_w/RMSProp:0\n",
      "model/I1923_0001.csv/model/I1923_0001.csv/output_w/RMSProp_1:0\n",
      "model/I1923_0001.csv/model/I1923_0001.csv/output_b/RMSProp:0\n",
      "model/I1923_0001.csv/model/I1923_0001.csv/output_b/RMSProp_1:0\n"
     ]
    }
   ],
   "source": [
    "train_multi_rnn.FLAGS.log_dir='/home/honglei/projects/neural_network/log_dir'\n",
    "m=train_multi_rnn.TrainMultiRNN('/home/honglei/projects/neural_network/data/shuffle', fix_shared=True)"
   ]
  },
  {
   "cell_type": "code",
   "execution_count": 3,
   "metadata": {
    "collapsed": false
   },
   "outputs": [
    {
     "name": "stdout",
     "output_type": "stream",
     "text": [
      "167999\n",
      "100\n",
      "1679\n",
      "0.000 loss: 0.781 speed: 7 batches/sec\n",
      "0.099 loss: 0.327 speed: 14 batches/sec\n",
      "0.199 loss: 0.171 speed: 14 batches/sec\n",
      "0.298 loss: 0.117 speed: 14 batches/sec\n",
      "0.398 loss: 0.090 speed: 14 batches/sec\n",
      "0.497 loss: 0.073 speed: 14 batches/sec\n",
      "0.597 loss: 0.063 speed: 14 batches/sec\n",
      "0.696 loss: 0.056 speed: 14 batches/sec\n",
      "0.796 loss: 0.050 speed: 14 batches/sec\n",
      "0.895 loss: 0.046 speed: 14 batches/sec\n",
      "0.995 loss: 0.043 speed: 14 batches/sec\n",
      "Epoch: 1 Train Loss: 0.043\n",
      "Epoch: 1 Valid ROC-AUC: 0.831\n",
      "167999\n",
      "100\n",
      "1679\n",
      "0.000 loss: 0.023 speed: 14 batches/sec\n",
      "0.099 loss: 0.014 speed: 14 batches/sec\n",
      "0.199 loss: 0.014 speed: 14 batches/sec\n",
      "0.298 loss: 0.012 speed: 14 batches/sec\n",
      "0.398 loss: 0.011 speed: 14 batches/sec\n",
      "WARNING: User interrupted program.\n",
      "Do you want to save the latest data? [y/n]n\n",
      "Results deleted.\n"
     ]
    }
   ],
   "source": [
    "m.partially_train('/home/honglei/projects/neural_network/log_dir/1_layer_150_neuron_r_1_889.ckt')"
   ]
  },
  {
   "cell_type": "code",
   "execution_count": 8,
   "metadata": {
    "collapsed": false,
    "scrolled": true
   },
   "outputs": [
    {
     "name": "stdout",
     "output_type": "stream",
     "text": [
      "281.605\n",
      "278.484\n"
     ]
    }
   ],
   "source": [
    "m.restore('/home/honglei/projects/neural_network/log_dir/1_layer_150_neuron_r_1_889.ckt')\n",
    "origin_inputw=m.get_value_of_variable('model/I1923_0001.csv/input_w:0')\n",
    "m.restore('/home/honglei/projects/neural_network/log_dir/6_12.ckt')\n",
    "shuffle_inputw=m.get_value_of_variable('model/I1923_0001.csv/input_w:0')\n",
    "print np.linalg.norm(origin_inputw-shuffle_inputw)\n",
    "print np.linalg.norm(origin_inputw[orders,:]-shuffle_inputw)"
   ]
  },
  {
   "cell_type": "code",
   "execution_count": 7,
   "metadata": {
    "collapsed": false
   },
   "outputs": [
    {
     "name": "stdout",
     "output_type": "stream",
     "text": [
      "227.312\n",
      "219.522\n"
     ]
    }
   ],
   "source": [
    "m.restore('/home/honglei/projects/neural_network/log_dir/1_layer_150_neuron_r_1_889.ckt')\n",
    "origin_outputw=m.get_value_of_variable('model/I1923_0001.csv/output_w:0')\n",
    "m.restore('/home/honglei/projects/neural_network/log_dir/6_12.ckt')\n",
    "shuffle_outputw=m.get_value_of_variable('model/I1923_0001.csv/output_w:0')\n",
    "print np.linalg.norm(origin_outputw-shuffle_outputw)\n",
    "print np.linalg.norm(origin_outputw[:,orders]-shuffle_outputw)"
   ]
  },
  {
   "cell_type": "code",
   "execution_count": 9,
   "metadata": {
    "collapsed": false
   },
   "outputs": [
    {
     "name": "stdout",
     "output_type": "stream",
     "text": [
      "560.5\n",
      "554.895\n"
     ]
    }
   ],
   "source": [
    "origin_trans=origin_inputw*np.transpose(origin_outputw)\n",
    "shuffle_trans=shuffle_inputw*np.transpose(shuffle_outputw)\n",
    "print np.linalg.norm(origin_trans-shuffle_trans)\n",
    "print np.linalg.norm(origin_trans[orders,:]-shuffle_trans)"
   ]
  },
  {
   "cell_type": "code",
   "execution_count": 10,
   "metadata": {
    "collapsed": false
   },
   "outputs": [
    {
     "data": {
      "text/plain": [
       "<matplotlib.image.AxesImage at 0x7f22a045b090>"
      ]
     },
     "execution_count": 10,
     "metadata": {},
     "output_type": "execute_result"
    },
    {
     "ename": "RuntimeError",
     "evalue": "Could not create write struct",
     "output_type": "error",
     "traceback": [
      "\u001b[1;31m---------------------------------------------------------------------------\u001b[0m",
      "\u001b[1;31mRuntimeError\u001b[0m                              Traceback (most recent call last)",
      "\u001b[1;32m/home/honglei/anaconda2/lib/python2.7/site-packages/IPython/core/formatters.pyc\u001b[0m in \u001b[0;36m__call__\u001b[1;34m(self, obj)\u001b[0m\n\u001b[0;32m    337\u001b[0m                 \u001b[1;32mpass\u001b[0m\u001b[1;33m\u001b[0m\u001b[0m\n\u001b[0;32m    338\u001b[0m             \u001b[1;32melse\u001b[0m\u001b[1;33m:\u001b[0m\u001b[1;33m\u001b[0m\u001b[0m\n\u001b[1;32m--> 339\u001b[1;33m                 \u001b[1;32mreturn\u001b[0m \u001b[0mprinter\u001b[0m\u001b[1;33m(\u001b[0m\u001b[0mobj\u001b[0m\u001b[1;33m)\u001b[0m\u001b[1;33m\u001b[0m\u001b[0m\n\u001b[0m\u001b[0;32m    340\u001b[0m             \u001b[1;31m# Finally look for special method names\u001b[0m\u001b[1;33m\u001b[0m\u001b[1;33m\u001b[0m\u001b[0m\n\u001b[0;32m    341\u001b[0m             \u001b[0mmethod\u001b[0m \u001b[1;33m=\u001b[0m \u001b[0m_safe_get_formatter_method\u001b[0m\u001b[1;33m(\u001b[0m\u001b[0mobj\u001b[0m\u001b[1;33m,\u001b[0m \u001b[0mself\u001b[0m\u001b[1;33m.\u001b[0m\u001b[0mprint_method\u001b[0m\u001b[1;33m)\u001b[0m\u001b[1;33m\u001b[0m\u001b[0m\n",
      "\u001b[1;32m/home/honglei/anaconda2/lib/python2.7/site-packages/IPython/core/pylabtools.pyc\u001b[0m in \u001b[0;36m<lambda>\u001b[1;34m(fig)\u001b[0m\n\u001b[0;32m    224\u001b[0m \u001b[1;33m\u001b[0m\u001b[0m\n\u001b[0;32m    225\u001b[0m     \u001b[1;32mif\u001b[0m \u001b[1;34m'png'\u001b[0m \u001b[1;32min\u001b[0m \u001b[0mformats\u001b[0m\u001b[1;33m:\u001b[0m\u001b[1;33m\u001b[0m\u001b[0m\n\u001b[1;32m--> 226\u001b[1;33m         \u001b[0mpng_formatter\u001b[0m\u001b[1;33m.\u001b[0m\u001b[0mfor_type\u001b[0m\u001b[1;33m(\u001b[0m\u001b[0mFigure\u001b[0m\u001b[1;33m,\u001b[0m \u001b[1;32mlambda\u001b[0m \u001b[0mfig\u001b[0m\u001b[1;33m:\u001b[0m \u001b[0mprint_figure\u001b[0m\u001b[1;33m(\u001b[0m\u001b[0mfig\u001b[0m\u001b[1;33m,\u001b[0m \u001b[1;34m'png'\u001b[0m\u001b[1;33m,\u001b[0m \u001b[1;33m**\u001b[0m\u001b[0mkwargs\u001b[0m\u001b[1;33m)\u001b[0m\u001b[1;33m)\u001b[0m\u001b[1;33m\u001b[0m\u001b[0m\n\u001b[0m\u001b[0;32m    227\u001b[0m     \u001b[1;32mif\u001b[0m \u001b[1;34m'retina'\u001b[0m \u001b[1;32min\u001b[0m \u001b[0mformats\u001b[0m \u001b[1;32mor\u001b[0m \u001b[1;34m'png2x'\u001b[0m \u001b[1;32min\u001b[0m \u001b[0mformats\u001b[0m\u001b[1;33m:\u001b[0m\u001b[1;33m\u001b[0m\u001b[0m\n\u001b[0;32m    228\u001b[0m         \u001b[0mpng_formatter\u001b[0m\u001b[1;33m.\u001b[0m\u001b[0mfor_type\u001b[0m\u001b[1;33m(\u001b[0m\u001b[0mFigure\u001b[0m\u001b[1;33m,\u001b[0m \u001b[1;32mlambda\u001b[0m \u001b[0mfig\u001b[0m\u001b[1;33m:\u001b[0m \u001b[0mretina_figure\u001b[0m\u001b[1;33m(\u001b[0m\u001b[0mfig\u001b[0m\u001b[1;33m,\u001b[0m \u001b[1;33m**\u001b[0m\u001b[0mkwargs\u001b[0m\u001b[1;33m)\u001b[0m\u001b[1;33m)\u001b[0m\u001b[1;33m\u001b[0m\u001b[0m\n",
      "\u001b[1;32m/home/honglei/anaconda2/lib/python2.7/site-packages/IPython/core/pylabtools.pyc\u001b[0m in \u001b[0;36mprint_figure\u001b[1;34m(fig, fmt, bbox_inches, **kwargs)\u001b[0m\n\u001b[0;32m    115\u001b[0m \u001b[1;33m\u001b[0m\u001b[0m\n\u001b[0;32m    116\u001b[0m     \u001b[0mbytes_io\u001b[0m \u001b[1;33m=\u001b[0m \u001b[0mBytesIO\u001b[0m\u001b[1;33m(\u001b[0m\u001b[1;33m)\u001b[0m\u001b[1;33m\u001b[0m\u001b[0m\n\u001b[1;32m--> 117\u001b[1;33m     \u001b[0mfig\u001b[0m\u001b[1;33m.\u001b[0m\u001b[0mcanvas\u001b[0m\u001b[1;33m.\u001b[0m\u001b[0mprint_figure\u001b[0m\u001b[1;33m(\u001b[0m\u001b[0mbytes_io\u001b[0m\u001b[1;33m,\u001b[0m \u001b[1;33m**\u001b[0m\u001b[0mkw\u001b[0m\u001b[1;33m)\u001b[0m\u001b[1;33m\u001b[0m\u001b[0m\n\u001b[0m\u001b[0;32m    118\u001b[0m     \u001b[0mdata\u001b[0m \u001b[1;33m=\u001b[0m \u001b[0mbytes_io\u001b[0m\u001b[1;33m.\u001b[0m\u001b[0mgetvalue\u001b[0m\u001b[1;33m(\u001b[0m\u001b[1;33m)\u001b[0m\u001b[1;33m\u001b[0m\u001b[0m\n\u001b[0;32m    119\u001b[0m     \u001b[1;32mif\u001b[0m \u001b[0mfmt\u001b[0m \u001b[1;33m==\u001b[0m \u001b[1;34m'svg'\u001b[0m\u001b[1;33m:\u001b[0m\u001b[1;33m\u001b[0m\u001b[0m\n",
      "\u001b[1;32m/home/honglei/anaconda2/lib/python2.7/site-packages/matplotlib/backend_bases.pyc\u001b[0m in \u001b[0;36mprint_figure\u001b[1;34m(self, filename, dpi, facecolor, edgecolor, orientation, format, **kwargs)\u001b[0m\n\u001b[0;32m   2178\u001b[0m                     \u001b[0morientation\u001b[0m\u001b[1;33m=\u001b[0m\u001b[0morientation\u001b[0m\u001b[1;33m,\u001b[0m\u001b[1;33m\u001b[0m\u001b[0m\n\u001b[0;32m   2179\u001b[0m                     \u001b[0mdryrun\u001b[0m\u001b[1;33m=\u001b[0m\u001b[0mTrue\u001b[0m\u001b[1;33m,\u001b[0m\u001b[1;33m\u001b[0m\u001b[0m\n\u001b[1;32m-> 2180\u001b[1;33m                     **kwargs)\n\u001b[0m\u001b[0;32m   2181\u001b[0m                 \u001b[0mrenderer\u001b[0m \u001b[1;33m=\u001b[0m \u001b[0mself\u001b[0m\u001b[1;33m.\u001b[0m\u001b[0mfigure\u001b[0m\u001b[1;33m.\u001b[0m\u001b[0m_cachedRenderer\u001b[0m\u001b[1;33m\u001b[0m\u001b[0m\n\u001b[0;32m   2182\u001b[0m                 \u001b[0mbbox_inches\u001b[0m \u001b[1;33m=\u001b[0m \u001b[0mself\u001b[0m\u001b[1;33m.\u001b[0m\u001b[0mfigure\u001b[0m\u001b[1;33m.\u001b[0m\u001b[0mget_tightbbox\u001b[0m\u001b[1;33m(\u001b[0m\u001b[0mrenderer\u001b[0m\u001b[1;33m)\u001b[0m\u001b[1;33m\u001b[0m\u001b[0m\n",
      "\u001b[1;32m/home/honglei/anaconda2/lib/python2.7/site-packages/matplotlib/backends/backend_agg.pyc\u001b[0m in \u001b[0;36mprint_png\u001b[1;34m(self, filename_or_obj, *args, **kwargs)\u001b[0m\n\u001b[0;32m    535\u001b[0m             \u001b[0mclose\u001b[0m \u001b[1;33m=\u001b[0m \u001b[0mFalse\u001b[0m\u001b[1;33m\u001b[0m\u001b[0m\n\u001b[0;32m    536\u001b[0m         \u001b[1;32mtry\u001b[0m\u001b[1;33m:\u001b[0m\u001b[1;33m\u001b[0m\u001b[0m\n\u001b[1;32m--> 537\u001b[1;33m             \u001b[0m_png\u001b[0m\u001b[1;33m.\u001b[0m\u001b[0mwrite_png\u001b[0m\u001b[1;33m(\u001b[0m\u001b[0mrenderer\u001b[0m\u001b[1;33m.\u001b[0m\u001b[0m_renderer\u001b[0m\u001b[1;33m,\u001b[0m \u001b[0mfilename_or_obj\u001b[0m\u001b[1;33m,\u001b[0m \u001b[0mself\u001b[0m\u001b[1;33m.\u001b[0m\u001b[0mfigure\u001b[0m\u001b[1;33m.\u001b[0m\u001b[0mdpi\u001b[0m\u001b[1;33m)\u001b[0m\u001b[1;33m\u001b[0m\u001b[0m\n\u001b[0m\u001b[0;32m    538\u001b[0m         \u001b[1;32mfinally\u001b[0m\u001b[1;33m:\u001b[0m\u001b[1;33m\u001b[0m\u001b[0m\n\u001b[0;32m    539\u001b[0m             \u001b[1;32mif\u001b[0m \u001b[0mclose\u001b[0m\u001b[1;33m:\u001b[0m\u001b[1;33m\u001b[0m\u001b[0m\n",
      "\u001b[1;31mRuntimeError\u001b[0m: Could not create write struct"
     ]
    },
    {
     "data": {
      "text/plain": [
       "<matplotlib.figure.Figure at 0x7f22a04e1410>"
      ]
     },
     "metadata": {},
     "output_type": "display_data"
    }
   ],
   "source": [
    "#plt.matshow(origin_inputw)\n",
    "plt.matshow(np.zeros([2,3]))"
   ]
  },
  {
   "cell_type": "code",
   "execution_count": 1,
   "metadata": {
    "collapsed": true
   },
   "outputs": [
    {
     "data": {
      "image/png": "[encoded data removed]",
      "text/plain": [
       "<matplotlib.figure.Figure at 0x7efd7e489690>"
      ]
     },
     "metadata": {},
     "output_type": "display_data"
    }
   ],
   "source": [
    "%matplotlib inline\n",
    "import matplotlib.pylab as plt\n",
    "import numpy as np\n",
    "#plt.matshow(origin_inputw)\n",
    "plt.matshow(np.zeros([2,3]))\n",
    "import train_multi_rnn"
   ]
  },
  {
   "cell_type": "code",
   "execution_count": 1,
   "metadata": {
    "collapsed": false
   },
   "outputs": [
    {
     "name": "stdout",
     "output_type": "stream",
     "text": [
      "Reading data\n",
      "(167999, 85)\n",
      "Building model\n",
      "Training variables: [u'model/I1923_0001.csv/Layer1/weights:0', u'model/shared_variables/Layer2/weights:0', u'model/I1923_0001.csv/Layer3/weights:0']\n",
      "Fixed variables: [u'model/shared_variables/Layer2/weights:0']\n",
      "Starting session\n",
      "model/I1923_0001.csv/Layer1/weights:0\n",
      "model/shared_variables/Layer2/weights:0\n",
      "model/I1923_0001.csv/Layer3/weights:0\n",
      "model/I1923_0001.csv/model/I1923_0001.csv/Layer1/weights/RMSProp:0\n",
      "model/I1923_0001.csv/model/I1923_0001.csv/Layer1/weights/RMSProp_1:0\n",
      "model/I1923_0001.csv/model/shared_variables/Layer2/weights/RMSProp:0\n",
      "model/I1923_0001.csv/model/shared_variables/Layer2/weights/RMSProp_1:0\n",
      "model/I1923_0001.csv/model/I1923_0001.csv/Layer3/weights/RMSProp:0\n",
      "model/I1923_0001.csv/model/I1923_0001.csv/Layer3/weights/RMSProp_1:0\n",
      "167999\n",
      "100\n",
      "1679\n",
      "0 loss: 0.985 speed: 13 batches/sec\n",
      "167 loss: 0.978 speed: 557 batches/sec\n",
      "334 loss: 0.964 speed: 620 batches/sec\n",
      "501 loss: 0.960 speed: 645 batches/sec\n",
      "668 loss: 0.958 speed: 673 batches/sec\n",
      "835 loss: 0.957 speed: 698 batches/sec\n",
      "1002 loss: 0.954 speed: 718 batches/sec\n",
      "1169 loss: 0.953 speed: 732 batches/sec\n",
      "1336 loss: 0.952 speed: 734 batches/sec\n",
      "1503 loss: 0.951 speed: 736 batches/sec\n",
      "1670 loss: 0.950 speed: 745 batches/sec\n",
      "Epoch: 1 Train Loss: 0.950\n",
      "Epoch: 1 Valid ROC-AUC: 0.303\n",
      "167999\n",
      "100\n",
      "1679\n",
      "0 loss: 0.900 speed: 625 batches/sec\n",
      "167 loss: 0.934 speed: 823 batches/sec\n",
      "334 loss: 0.936 speed: 825 batches/sec\n",
      "501 loss: 0.941 speed: 824 batches/sec\n",
      "668 loss: 0.944 speed: 823 batches/sec\n",
      "835 loss: 0.946 speed: 820 batches/sec\n",
      "1002 loss: 0.945 speed: 806 batches/sec\n",
      "1169 loss: 0.945 speed: 806 batches/sec\n",
      "1336 loss: 0.945 speed: 805 batches/sec\n",
      "1503 loss: 0.945 speed: 808 batches/sec\n",
      "1670 loss: 0.944 speed: 808 batches/sec\n",
      "Epoch: 2 Train Loss: 0.944\n",
      "Epoch: 2 Valid ROC-AUC: 0.302\n",
      "167999\n",
      "100\n",
      "1679\n",
      "0 loss: 0.900 speed: 667 batches/sec\n",
      "167 loss: 0.934 speed: 877 batches/sec\n",
      "334 loss: 0.936 speed: 849 batches/sec\n",
      "501 loss: 0.941 speed: 846 batches/sec\n",
      "668 loss: 0.944 speed: 836 batches/sec\n",
      "835 loss: 0.946 speed: 814 batches/sec\n",
      "1002 loss: 0.945 speed: 818 batches/sec\n",
      "1169 loss: 0.945 speed: 821 batches/sec\n",
      "1336 loss: 0.945 speed: 823 batches/sec\n",
      "1503 loss: 0.945 speed: 820 batches/sec\n",
      "1670 loss: 0.944 speed: 820 batches/sec\n",
      "Epoch: 3 Train Loss: 0.944\n",
      "Epoch: 3 Valid ROC-AUC: 0.302\n",
      "167999\n",
      "100\n",
      "1679\n",
      "0 loss: 0.900 speed: 618 batches/sec\n",
      "167 loss: 0.934 speed: 829 batches/sec\n",
      "334 loss: 0.936 speed: 836 batches/sec\n",
      "501 loss: 0.941 speed: 828 batches/sec\n",
      "668 loss: 0.944 speed: 802 batches/sec\n",
      "835 loss: 0.946 speed: 806 batches/sec\n",
      "1002 loss: 0.945 speed: 813 batches/sec\n",
      "1169 loss: 0.945 speed: 813 batches/sec\n",
      "1336 loss: 0.945 speed: 809 batches/sec\n",
      "1503 loss: 0.945 speed: 810 batches/sec\n",
      "1670 loss: 0.944 speed: 810 batches/sec\n",
      "Epoch: 4 Train Loss: 0.944\n",
      "Epoch: 4 Valid ROC-AUC: 0.302\n",
      "167999\n",
      "100\n",
      "1679\n",
      "0 loss: 0.900 speed: 636 batches/sec\n",
      "167 loss: 0.934 speed: 720 batches/sec\n",
      "334 loss: 0.936 speed: 737 batches/sec\n",
      "501 loss: 0.941 speed: 760 batches/sec\n",
      "668 loss: 0.944 speed: 786 batches/sec\n",
      "835 loss: 0.946 speed: 795 batches/sec\n",
      "1002 loss: 0.945 speed: 802 batches/sec\n",
      "1169 loss: 0.945 speed: 810 batches/sec\n",
      "1336 loss: 0.945 speed: 803 batches/sec\n",
      "1503 loss: 0.945 speed: 800 batches/sec\n",
      "1670 loss: 0.944 speed: 795 batches/sec\n",
      "Epoch: 5 Train Loss: 0.944\n",
      "Epoch: 5 Valid ROC-AUC: 0.302\n",
      "167999\n",
      "100\n",
      "1679\n",
      "0 loss: 0.900 speed: 634 batches/sec\n",
      "167 loss: 0.934 speed: 776 batches/sec\n",
      "334 loss: 0.936 speed: 781 batches/sec\n",
      "501 loss: 0.941 speed: 782 batches/sec\n",
      "668 loss: 0.944 speed: 787 batches/sec\n",
      "835 loss: 0.946 speed: 789 batches/sec\n",
      "1002 loss: 0.945 speed: 799 batches/sec\n",
      "1169 loss: 0.945 speed: 800 batches/sec\n",
      "1336 loss: 0.945 speed: 790 batches/sec\n",
      "1503 loss: 0.945 speed: 793 batches/sec\n",
      "1670 loss: 0.944 speed: 796 batches/sec\n",
      "Epoch: 6 Train Loss: 0.944\n",
      "Epoch: 6 Valid ROC-AUC: 0.302\n",
      "167999\n",
      "100\n",
      "1679\n",
      "0 loss: 0.900 speed: 638 batches/sec\n",
      "167 loss: 0.934 speed: 727 batches/sec\n",
      "334 loss: 0.936 speed: 764 batches/sec\n",
      "501 loss: 0.941 speed: 783 batches/sec\n",
      "668 loss: 0.944 speed: 801 batches/sec\n",
      "835 loss: 0.946 speed: 797 batches/sec\n",
      "1002 loss: 0.945 speed: 797 batches/sec\n",
      "1169 loss: 0.945 speed: 799 batches/sec\n",
      "1336 loss: 0.945 speed: 797 batches/sec\n",
      "1503 loss: 0.945 speed: 795 batches/sec\n",
      "1670 loss: 0.944 speed: 800 batches/sec\n",
      "Epoch: 7 Train Loss: 0.944\n",
      "Epoch: 7 Valid ROC-AUC: 0.302\n",
      "167999\n",
      "100\n",
      "1679\n",
      "0 loss: 0.900 speed: 675 batches/sec\n",
      "167 loss: 0.934 speed: 840 batches/sec\n",
      "334 loss: 0.936 speed: 779 batches/sec\n",
      "501 loss: 0.941 speed: 790 batches/sec\n",
      "668 loss: 0.944 speed: 798 batches/sec\n",
      "835 loss: 0.946 speed: 799 batches/sec\n",
      "1002 loss: 0.945 speed: 809 batches/sec\n",
      "1169 loss: 0.945 speed: 807 batches/sec\n",
      "1336 loss: 0.945 speed: 805 batches/sec\n",
      "1503 loss: 0.945 speed: 808 batches/sec\n",
      "1670 loss: 0.944 speed: 802 batches/sec\n",
      "Epoch: 8 Train Loss: 0.944\n",
      "Epoch: 8 Valid ROC-AUC: 0.302\n",
      "167999\n",
      "100\n",
      "1679\n",
      "0 loss: 0.900 speed: 692 batches/sec\n",
      "167 loss: 0.934 speed: 824 batches/sec\n",
      "WARNING: User interrupted program.\n",
      "Do you want to save the latest data? [y/n]n\n",
      "Results deleted.\n"
     ]
    }
   ],
   "source": [
    "%matplotlib inline\n",
    "import matplotlib.pylab as plt\n",
    "import numpy as np\n",
    "import train_multi_fcnet\n",
    "\n",
    "train_multi_fcnet.FLAGS.log_dir='/home/honglei/projects/neural_network/log_dir'\n",
    "m=train_multi_fcnet.TrainMultiFCNet('/home/honglei/projects/neural_network/data/small', fix_shared=False)\n",
    "m.train()"
   ]
  },
  {
   "cell_type": "code",
   "execution_count": null,
   "metadata": {
    "collapsed": true
   },
   "outputs": [],
   "source": []
  }
 ],
 "metadata": {
  "kernelspec": {
   "display_name": "Python 2",
   "language": "python",
   "name": "python2"
  },
  "language_info": {
   "codemirror_mode": {
    "name": "ipython",
    "version": 2
   },
   "file_extension": ".py",
   "mimetype": "text/x-python",
   "name": "python",
   "nbconvert_exporter": "python",
   "pygments_lexer": "ipython2",
   "version": "2.7.11"
  }
 },
 "nbformat": 4,
 "nbformat_minor": 0
}
